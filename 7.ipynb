{
 "cells": [
  {
   "cell_type": "markdown",
   "metadata": {},
   "source": [
    "# Выбор локации для скважины"
   ]
  },
  {
   "cell_type": "markdown",
   "metadata": {},
   "source": [
    "Допустим, вы работаете в добывающей компании «ГлавРосГосНефть». Нужно решить, где бурить новую скважину.\n",
    "\n",
    "Вам предоставлены пробы нефти в трёх регионах: в каждом 10 000 месторождений, где измерили качество нефти и объём её запасов. Постройте модель машинного обучения, которая поможет определить регион, где добыча принесёт наибольшую прибыль. Проанализируйте возможную прибыль и риски техникой Bootstrap.\n",
    "\n",
    "Шаги для выбора локации:\n",
    "\n",
    "В избранном регионе ищут месторождения, для каждого определяют значения признаков;\n",
    "Строят модель и оценивают объём запасов;\n",
    "Выбирают месторождения с самым высокими оценками значений. Количество месторождений зависит от бюджета компании и стоимости разработки одной скважины;\n",
    "Прибыль равна суммарной прибыли отобранных месторождений."
   ]
  },
  {
   "cell_type": "markdown",
   "metadata": {},
   "source": [
    "# Описание проекта\n",
    "\n"
   ]
  },
  {
   "cell_type": "markdown",
   "metadata": {},
   "source": [
    "Допустим, вы работаете в добывающей компании «ГлавРосГосНефть». Нужно решить, где бурить новую скважину.\n",
    "Шаги для выбора локации обычно такие:\n",
    "В избранном регионе собирают характеристики для скважин: качество нефти и объём её запасов;\n",
    "Строят модель для предсказания объёма запасов в новых скважинах;\n",
    "Выбирают скважины с самыми высокими оценками значений;\n",
    "Определяют регион с максимальной суммарной прибылью отобранных скважин.\n",
    "Вам предоставлены пробы нефти в трёх регионах. Характеристики для каждой скважины в регионе уже известны. Постройте модель для определения региона, где добыча принесёт наибольшую прибыль. Проанализируйте возможную прибыль и риски техникой Bootstrap."
   ]
  },
  {
   "cell_type": "markdown",
   "metadata": {},
   "source": [
    "**Данные геологоразведки трёх регионов находятся в файлах**:\n",
    "/datasets/geo_data_0.csv. \n",
    "\n",
    "/datasets/geo_data_1.csv. \n",
    "\n",
    "/datasets/geo_data_2.csv. \n",
    "\n",
    "\n",
    "*id* — уникальный идентификатор скважины;\n",
    "\n",
    "**f0, f1, f2** — три признака точек (неважно, что они означают, но сами признаки значимы);\n",
    "\n",
    "product — объём запасов в скважине (тыс. баррелей).\n",
    "\n",
    "*Условия задачи*:\n",
    "\n",
    "Для обучения модели подходит только линейная регрессия (остальные — недостаточно предсказуемые).\n",
    "При разведке региона исследуют 500 точек, из которых с помощью машинного обучения выбирают 200 лучших для разработки.\n",
    "Бюджет на разработку скважин в регионе — 10 млрд рублей.\n",
    "При нынешних ценах один баррель сырья приносит 450 рублей дохода. Доход с каждой единицы продукта составляет 450 тыс. рублей, поскольку объём указан в тысячах баррелей.\n",
    "После оценки рисков нужно оставить лишь те регионы, в которых вероятность убытков меньше 2.5%. Среди них выбирают регион с наибольшей средней прибылью.\n",
    "Данные синтетические: детали контрактов и характеристики месторождений не разглашаются."
   ]
  },
  {
   "cell_type": "markdown",
   "metadata": {},
   "source": [
    "## Загрузка и подготовка данных"
   ]
  },
  {
   "cell_type": "markdown",
   "metadata": {},
   "source": [
    "Импортирум все необходимые для работы библиотеки"
   ]
  },
  {
   "cell_type": "code",
   "execution_count": 35,
   "metadata": {},
   "outputs": [],
   "source": [
    "import pandas as pd\n",
    "from sklearn.linear_model import LinearRegression\n",
    "from sklearn.model_selection import train_test_split\n",
    "from sklearn.metrics import mean_squared_error\n",
    "import numpy as np\n",
    "import scipy.stats as st"
   ]
  },
  {
   "cell_type": "markdown",
   "metadata": {},
   "source": [
    "Прочитаем все три датасета"
   ]
  },
  {
   "cell_type": "code",
   "execution_count": 36,
   "metadata": {},
   "outputs": [],
   "source": [
    "geodata_0 = pd.read_csv('/datasets/geo_data_0.csv')\n",
    "geodata_1 = pd.read_csv('/datasets/geo_data_1.csv')\n",
    "geodata_2 = pd.read_csv('/datasets/geo_data_2.csv')"
   ]
  },
  {
   "cell_type": "markdown",
   "metadata": {},
   "source": [
    "Выведем общую информацию по всем таблицам"
   ]
  },
  {
   "cell_type": "code",
   "execution_count": 37,
   "metadata": {},
   "outputs": [
    {
     "name": "stdout",
     "output_type": "stream",
     "text": [
      "<class 'pandas.core.frame.DataFrame'>\n",
      "RangeIndex: 100000 entries, 0 to 99999\n",
      "Data columns (total 5 columns):\n",
      "id         100000 non-null object\n",
      "f0         100000 non-null float64\n",
      "f1         100000 non-null float64\n",
      "f2         100000 non-null float64\n",
      "product    100000 non-null float64\n",
      "dtypes: float64(4), object(1)\n",
      "memory usage: 3.8+ MB\n",
      "<class 'pandas.core.frame.DataFrame'>\n",
      "RangeIndex: 100000 entries, 0 to 99999\n",
      "Data columns (total 5 columns):\n",
      "id         100000 non-null object\n",
      "f0         100000 non-null float64\n",
      "f1         100000 non-null float64\n",
      "f2         100000 non-null float64\n",
      "product    100000 non-null float64\n",
      "dtypes: float64(4), object(1)\n",
      "memory usage: 3.8+ MB\n",
      "<class 'pandas.core.frame.DataFrame'>\n",
      "RangeIndex: 100000 entries, 0 to 99999\n",
      "Data columns (total 5 columns):\n",
      "id         100000 non-null object\n",
      "f0         100000 non-null float64\n",
      "f1         100000 non-null float64\n",
      "f2         100000 non-null float64\n",
      "product    100000 non-null float64\n",
      "dtypes: float64(4), object(1)\n",
      "memory usage: 3.8+ MB\n"
     ]
    }
   ],
   "source": [
    "geodata_0.info()\n",
    "geodata_1.info()\n",
    "geodata_2.info()"
   ]
  },
  {
   "cell_type": "markdown",
   "metadata": {},
   "source": [
    "Видим, что в таблице представлены все значения, нет пустых ячеек."
   ]
  },
  {
   "cell_type": "markdown",
   "metadata": {},
   "source": [
    "Удалим во всех датасетах столбец \"id\" как ненужный для анализа"
   ]
  },
  {
   "cell_type": "code",
   "execution_count": 38,
   "metadata": {
    "scrolled": true
   },
   "outputs": [
    {
     "name": "stdout",
     "output_type": "stream",
     "text": [
      "<class 'pandas.core.frame.DataFrame'>\n",
      "RangeIndex: 100000 entries, 0 to 99999\n",
      "Data columns (total 4 columns):\n",
      "f0         100000 non-null float64\n",
      "f1         100000 non-null float64\n",
      "f2         100000 non-null float64\n",
      "product    100000 non-null float64\n",
      "dtypes: float64(4)\n",
      "memory usage: 3.1 MB\n"
     ]
    }
   ],
   "source": [
    "geodata_0 = geodata_0.drop(['id'],axis = 1)\n",
    "geodata_1 = geodata_1.drop(['id'],axis = 1)\n",
    "geodata_2 = geodata_2.drop(['id'],axis = 1)\n",
    "geodata_0.info()"
   ]
  },
  {
   "cell_type": "markdown",
   "metadata": {},
   "source": [
    "### Регион *f0*"
   ]
  },
  {
   "cell_type": "markdown",
   "metadata": {},
   "source": [
    "Целевой признак - столбец *product*, а *f0,f1,f2* - наши признаки."
   ]
  },
  {
   "cell_type": "code",
   "execution_count": 39,
   "metadata": {},
   "outputs": [],
   "source": [
    "features = geodata_0.drop(['product'],axis = 1)\n",
    "target = geodata_0['product']\n",
    "features1 = geodata_1.drop(['product'],axis = 1)\n",
    "target1 = geodata_1['product']\n",
    "features2 = geodata_2.drop(['product'],axis = 1)\n",
    "target2 = geodata_2['product']"
   ]
  },
  {
   "cell_type": "markdown",
   "metadata": {},
   "source": [
    "Разобъём выборку на тестовую и валидационную в соотношении 3 к 1, обучим модель и сделаем предсказания с помощью Линейной Регрессии."
   ]
  },
  {
   "cell_type": "code",
   "execution_count": 40,
   "metadata": {},
   "outputs": [],
   "source": [
    "features_train, features_valid, target_train, target_valid = train_test_split(features, target, test_size=0.25, random_state=12345)"
   ]
  },
  {
   "cell_type": "code",
   "execution_count": 41,
   "metadata": {},
   "outputs": [
    {
     "name": "stdout",
     "output_type": "stream",
     "text": [
      "Значение коэффициента детерминации  на валидационной выборке: 0.27994321524487786\n"
     ]
    }
   ],
   "source": [
    "linear_model =  LinearRegression()\n",
    "linear_model.fit(features_train,target_train) \n",
    "predicted_valid = linear_model.predict(features_valid) \n",
    "\n",
    "linear_result = linear_model.score(features_valid, target_valid)\n",
    "print(\"Значение коэффициента детерминации  на валидационной выборке:\", linear_result)"
   ]
  },
  {
   "cell_type": "markdown",
   "metadata": {},
   "source": [
    "Посчитаем квадратный корень из среднеквадратичной ошибки *RMSE*"
   ]
  },
  {
   "cell_type": "code",
   "execution_count": 42,
   "metadata": {},
   "outputs": [
    {
     "name": "stdout",
     "output_type": "stream",
     "text": [
      "RMSE = 37.5794217150813\n"
     ]
    }
   ],
   "source": [
    "mse = mean_squared_error(target_valid,predicted_valid)\n",
    "print(\"RMSE =\", mse ** 0.5)"
   ]
  },
  {
   "cell_type": "markdown",
   "metadata": {},
   "source": [
    "Посчитаем средний запас"
   ]
  },
  {
   "cell_type": "code",
   "execution_count": 43,
   "metadata": {},
   "outputs": [
    {
     "name": "stdout",
     "output_type": "stream",
     "text": [
      "92.50000000000001\n"
     ]
    }
   ],
   "source": [
    "mean = target.mean()\n",
    "print(mean)"
   ]
  },
  {
   "cell_type": "markdown",
   "metadata": {},
   "source": [
    "### Регион f1\n"
   ]
  },
  {
   "cell_type": "code",
   "execution_count": 44,
   "metadata": {},
   "outputs": [
    {
     "name": "stdout",
     "output_type": "stream",
     "text": [
      "Значение коэффициента детерминации  на валидационной выборке: 0.9996233978805126\n"
     ]
    }
   ],
   "source": [
    "features1_train, features1_valid, target1_train, target1_valid = train_test_split(features1, target1, test_size=0.25, random_state=12345)\n",
    "linear_model1 =  LinearRegression()\n",
    "linear_model1.fit(features1_train,target1_train) \n",
    "predicted_valid1 = linear_model1.predict(features1_valid) \n",
    "\n",
    "linear_result1 = linear_model1.score(features1_valid, target1_valid)\n",
    "print(\"Значение коэффициента детерминации  на валидационной выборке:\", linear_result1)"
   ]
  },
  {
   "cell_type": "code",
   "execution_count": 45,
   "metadata": {},
   "outputs": [
    {
     "name": "stdout",
     "output_type": "stream",
     "text": [
      "RMSE = 0.893099286775616\n"
     ]
    }
   ],
   "source": [
    "mse1 = mean_squared_error(target1_valid,predicted_valid1)\n",
    "print(\"RMSE =\", mse1 ** 0.5)"
   ]
  },
  {
   "cell_type": "markdown",
   "metadata": {},
   "source": [
    "Посчитаем средний запас"
   ]
  },
  {
   "cell_type": "code",
   "execution_count": 46,
   "metadata": {},
   "outputs": [
    {
     "name": "stdout",
     "output_type": "stream",
     "text": [
      "68.82500000000002\n"
     ]
    }
   ],
   "source": [
    "mean1 = target1.mean()\n",
    "print(mean1)"
   ]
  },
  {
   "cell_type": "markdown",
   "metadata": {},
   "source": [
    "### Регион f2"
   ]
  },
  {
   "cell_type": "code",
   "execution_count": 47,
   "metadata": {},
   "outputs": [
    {
     "name": "stdout",
     "output_type": "stream",
     "text": [
      "Значение коэффициента детерминации линейной регрессии на валидационной выборке: 0.20524758386040443\n"
     ]
    }
   ],
   "source": [
    "features2_train, features2_valid, target2_train, target2_valid = train_test_split(features2, target2, test_size=0.25, random_state=12345)\n",
    "linear_model2 =  LinearRegression()\n",
    "linear_model2.fit(features2_train,target2_train) \n",
    "predicted_valid2 = linear_model2.predict(features2_valid) \n",
    "\n",
    "linear_result2 = linear_model2.score(features2_valid, target2_valid)\n",
    "print(\"Значение коэффициента детерминации линейной регрессии на валидационной выборке:\", linear_result2)"
   ]
  },
  {
   "cell_type": "code",
   "execution_count": 48,
   "metadata": {},
   "outputs": [
    {
     "name": "stdout",
     "output_type": "stream",
     "text": [
      "RMSE = 40.02970873393434\n"
     ]
    }
   ],
   "source": [
    "mse2 = mean_squared_error(target2_valid,predicted_valid2)\n",
    "print(\"RMSE =\", mse2 ** 0.5)"
   ]
  },
  {
   "cell_type": "markdown",
   "metadata": {},
   "source": [
    "Посчитаем средний запас"
   ]
  },
  {
   "cell_type": "code",
   "execution_count": 49,
   "metadata": {
    "scrolled": true
   },
   "outputs": [
    {
     "name": "stdout",
     "output_type": "stream",
     "text": [
      "95.00000000000004\n"
     ]
    }
   ],
   "source": [
    "mean2 = target2.mean()\n",
    "print(mean2)"
   ]
  },
  {
   "cell_type": "markdown",
   "metadata": {},
   "source": [
    "#### Проанализируем результаты между скважинами"
   ]
  },
  {
   "cell_type": "markdown",
   "metadata": {},
   "source": [
    "Видим, что средний запас самый высокий у третьего региона."
   ]
  },
  {
   "cell_type": "markdown",
   "metadata": {},
   "source": [
    "## Обучение и проверка модели"
   ]
  },
  {
   "cell_type": "markdown",
   "metadata": {},
   "source": [
    "Выпишем все переменные, необходимые для рассчётов. "
   ]
  },
  {
   "cell_type": "code",
   "execution_count": 50,
   "metadata": {},
   "outputs": [],
   "source": [
    "points_numbers = 500\n",
    "best_points_numbers = 200\n",
    "budget = 10000000000\n",
    "barrel_price = 450000\n",
    "probability = 0.025"
   ]
  },
  {
   "cell_type": "code",
   "execution_count": 51,
   "metadata": {},
   "outputs": [
    {
     "name": "stdout",
     "output_type": "stream",
     "text": [
      "112.0\n"
     ]
    }
   ],
   "source": [
    "Borehowl_needs = np.ceil(budget/best_points_numbers/barrel_price)\n",
    "print(Borehowl_needs)"
   ]
  },
  {
   "cell_type": "markdown",
   "metadata": {},
   "source": [
    "Cравним со средним количеством тысяч баррелей по каждому региону в одной скважине"
   ]
  },
  {
   "cell_type": "code",
   "execution_count": 52,
   "metadata": {},
   "outputs": [
    {
     "name": "stdout",
     "output_type": "stream",
     "text": [
      "1.2108108108108107\n",
      "1.6273156556483832\n",
      "1.178947368421052\n"
     ]
    }
   ],
   "source": [
    "Borehowl_needs_count = Borehowl_needs/mean\n",
    "Borehowl_needs_count1 = Borehowl_needs/mean1\n",
    "Borehowl_needs_count2 = Borehowl_needs/mean2\n",
    "print(Borehowl_needs_count)\n",
    "print(Borehowl_needs_count1)\n",
    "print(Borehowl_needs_count2)"
   ]
  },
  {
   "cell_type": "markdown",
   "metadata": {},
   "source": [
    "**Вывод** Для безубыточной разработки скважин необхоимо 112 единиц продукта, но средние запасы в каждом из регионов меньше."
   ]
  },
  {
   "cell_type": "markdown",
   "metadata": {},
   "source": [
    "## Подготовка к рассчёту прибыли"
   ]
  },
  {
   "cell_type": "markdown",
   "metadata": {},
   "source": [
    "Напишем функцию для вычисления прибыли по выбранным скважинам и предсказанным моделям"
   ]
  },
  {
   "cell_type": "code",
   "execution_count": 53,
   "metadata": {},
   "outputs": [],
   "source": [
    "def profit(target_valid,predicted_valid,best_points_numbers):\n",
    "    target_valid = target_valid.reset_index(drop=True)\n",
    "    predicted_valid = pd.DataFrame(predicted_valid).reset_index(drop=True)\n",
    "    predicted_valid_sorted = predicted_valid.sort_values(by = [0],ascending = False)[:best_points_numbers]\n",
    "    selected = target_valid[predicted_valid_sorted.index][:best_points_numbers]\n",
    "    profit = barrel_price*selected.sum() - budget\n",
    "    return profit\n"
   ]
  },
  {
   "cell_type": "markdown",
   "metadata": {},
   "source": [
    "**Вывод** : Самый прибыльный регион - первый. Остальные два несильно отстают от первого."
   ]
  },
  {
   "cell_type": "markdown",
   "metadata": {},
   "source": [
    " ## Рассчёт прибыли и рисков"
   ]
  },
  {
   "cell_type": "markdown",
   "metadata": {},
   "source": [
    "Посчитаем риски с помощью техники Bootstrap"
   ]
  },
  {
   "cell_type": "code",
   "execution_count": 54,
   "metadata": {},
   "outputs": [
    {
     "name": "stdout",
     "output_type": "stream",
     "text": [
      "Средняя прибыль первого региона: 0.40 млрд рублей\n",
      "95%-ый доверительный интервал: (-0.11121554589049526, 0.9097669415534224)\n",
      "Риск убытков 0.069 %\n"
     ]
    }
   ],
   "source": [
    "target_valid = target_valid.reset_index(drop = True)\n",
    "state = np.random.RandomState(12345)\n",
    "values = []\n",
    "for i in range(1000):\n",
    "    target_subsample = pd.Series(target_valid).sample(points_numbers ,replace = True, random_state = state)\n",
    "    probs_subsample = pd.Series(predicted_valid)[target_subsample.index]\n",
    "    values.append(profit(target_subsample,probs_subsample,best_points_numbers))\n",
    "    \n",
    "values = pd.Series(values)\n",
    "mean_value = values.mean()\n",
    "risk_of_loss = (values < 0).mean()\n",
    "lower_quantile = values.quantile(0.025)/10**9\n",
    "upper_quantile = values.quantile(0.975)/10**9\n",
    "\n",
    "print('Средняя прибыль первого региона: {:.2f} млрд рублей'.format(mean_value/10**9))\n",
    "confidence_interval = (lower_quantile,upper_quantile)\n",
    "print(\"95%-ый доверительный интервал:\",confidence_interval)\n",
    "print(\"Риск убытков\",risk_of_loss,'%')"
   ]
  },
  {
   "cell_type": "markdown",
   "metadata": {},
   "source": [
    "Проведём аналогичное исследование для остальных регионов."
   ]
  },
  {
   "cell_type": "code",
   "execution_count": 55,
   "metadata": {},
   "outputs": [
    {
     "name": "stdout",
     "output_type": "stream",
     "text": [
      "Средняя прибыль второго региона: 0.46 млрд рублей\n",
      "95%-ый доверительный интервал: (0.03382050939898549, 0.852289453866036)\n",
      "Риск убытков 0.015 %\n"
     ]
    }
   ],
   "source": [
    "target1_valid = target1_valid.reset_index(drop = True)\n",
    "state = np.random.RandomState(12345)\n",
    "values1 = []\n",
    "for i in range(1000):\n",
    "    target1_subsample = pd.Series(target1_valid).sample(points_numbers ,replace = True, random_state = state)\n",
    "    probs1_subsample = pd.Series(predicted_valid1)[target1_subsample.index]\n",
    "    values1.append(profit(target1_subsample,probs1_subsample,best_points_numbers))\n",
    "    \n",
    "values1= pd.Series(values1)\n",
    "mean1_value = values1.mean()\n",
    "risk_of_loss1 = (values1 < 0).mean()\n",
    "lower_quantile1 = values1.quantile(0.025)/10**9\n",
    "upper_quantile1 = values1.quantile(0.975)/10**9\n",
    "\n",
    "print('Средняя прибыль второго региона: {:.2f} млрд рублей'.format(mean1_value/10**9))\n",
    "confidence_interval1 = (lower_quantile1,upper_quantile1)\n",
    "print(\"95%-ый доверительный интервал:\",confidence_interval1)\n",
    "print(\"Риск убытков\",risk_of_loss1,'%')"
   ]
  },
  {
   "cell_type": "code",
   "execution_count": 56,
   "metadata": {
    "scrolled": true
   },
   "outputs": [
    {
     "name": "stdout",
     "output_type": "stream",
     "text": [
      "Средняя прибыль третьего региона: 0.40 млрд рублей\n",
      "95%-ый доверительный интервал: (-0.16335041339559925, 0.9503595749237995)\n",
      "Риск убытков 0.076 %\n"
     ]
    }
   ],
   "source": [
    "target2_valid = target2_valid.reset_index(drop = True)\n",
    "state = np.random.RandomState(12345)\n",
    "values2 = []\n",
    "for i in range(1000):\n",
    "    target2_subsample = pd.Series(target2_valid).sample(points_numbers ,replace = True, random_state = state)\n",
    "    probs2_subsample = pd.Series(predicted_valid2)[target2_subsample.index]\n",
    "    values2.append(profit(target2_subsample,probs2_subsample,best_points_numbers))\n",
    "    \n",
    "values2 = pd.Series(values2)\n",
    "mean2_value = values2.mean()\n",
    "risk_of_loss2 = (values2 < 0).mean()\n",
    "lower_quantile2 = values2.quantile(0.025)/10**9\n",
    "upper_quantile2 = values2.quantile(0.975)/10**9\n",
    "\n",
    "print('Средняя прибыль третьего региона: {:.2f} млрд рублей'.format(mean2_value/10**9))\n",
    "confidence_interval2 = (lower_quantile2,upper_quantile2)\n",
    "print(\"95%-ый доверительный интервал:\",confidence_interval2)\n",
    "print(\"Риск убытков\",risk_of_loss2,'%')"
   ]
  },
  {
   "cell_type": "markdown",
   "metadata": {},
   "source": [
    "**Вывод**: Ни один из регионов не оправдает желаний инвестора."
   ]
  },
  {
   "cell_type": "markdown",
   "metadata": {},
   "source": [
    "Добавим результаты для сравнения в таблицу"
   ]
  },
  {
   "cell_type": "code",
   "execution_count": 57,
   "metadata": {},
   "outputs": [
    {
     "data": {
      "text/html": [
       "<div>\n",
       "<style scoped>\n",
       "    .dataframe tbody tr th:only-of-type {\n",
       "        vertical-align: middle;\n",
       "    }\n",
       "\n",
       "    .dataframe tbody tr th {\n",
       "        vertical-align: top;\n",
       "    }\n",
       "\n",
       "    .dataframe thead th {\n",
       "        text-align: right;\n",
       "    }\n",
       "</style>\n",
       "<table border=\"1\" class=\"dataframe\">\n",
       "  <thead>\n",
       "    <tr style=\"text-align: right;\">\n",
       "      <th></th>\n",
       "      <th>Метрика</th>\n",
       "      <th>Регион 0</th>\n",
       "      <th>Регион 1</th>\n",
       "      <th>Регион 2</th>\n",
       "    </tr>\n",
       "  </thead>\n",
       "  <tbody>\n",
       "    <tr>\n",
       "      <td>0</td>\n",
       "      <td>RMSE</td>\n",
       "      <td>37.579422</td>\n",
       "      <td>0.893099</td>\n",
       "      <td>40.029709</td>\n",
       "    </tr>\n",
       "    <tr>\n",
       "      <td>1</td>\n",
       "      <td>Средний запас</td>\n",
       "      <td>92.500000</td>\n",
       "      <td>68.825000</td>\n",
       "      <td>95.000000</td>\n",
       "    </tr>\n",
       "    <tr>\n",
       "      <td>2</td>\n",
       "      <td>Средняя прибыль, млрд. рублей</td>\n",
       "      <td>0.396165</td>\n",
       "      <td>0.456045</td>\n",
       "      <td>0.404404</td>\n",
       "    </tr>\n",
       "    <tr>\n",
       "      <td>3</td>\n",
       "      <td>Риск убытков, %</td>\n",
       "      <td>0.069000</td>\n",
       "      <td>0.015000</td>\n",
       "      <td>0.076000</td>\n",
       "    </tr>\n",
       "  </tbody>\n",
       "</table>\n",
       "</div>"
      ],
      "text/plain": [
       "                         Метрика   Регион 0   Регион 1   Регион 2\n",
       "0                           RMSE  37.579422   0.893099  40.029709\n",
       "1                  Средний запас  92.500000  68.825000  95.000000\n",
       "2  Средняя прибыль, млрд. рублей   0.396165   0.456045   0.404404\n",
       "3                Риск убытков, %   0.069000   0.015000   0.076000"
      ]
     },
     "execution_count": 57,
     "metadata": {},
     "output_type": "execute_result"
    }
   ],
   "source": [
    "data = [['RMSE', mse**0.5,mse1**0.5,mse2**0.5],\n",
    "        ['Средний запас',mean,mean1,mean2],\n",
    "        ['Средняя прибыль, млрд. рублей',mean_value/10**9,mean1_value/10**9,mean2_value/10**9],\n",
    "        ['Риск убытков, %',risk_of_loss,risk_of_loss1,risk_of_loss2],\n",
    "       ]\n",
    "columns = ['Метрика', 'Регион 0', 'Регион 1','Регион 2']\n",
    "result = pd.DataFrame(data = data, columns = columns)\n",
    "result"
   ]
  },
  {
   "cell_type": "markdown",
   "metadata": {},
   "source": [
    "**Вывод**: для разработки могут быть использованы одинаково регион 0 и регион 2, но средняя прибыль не покрывает всех вложений."
   ]
  },
  {
   "cell_type": "markdown",
   "metadata": {},
   "source": [
    "## Чек-лист готовности проекта"
   ]
  },
  {
   "cell_type": "markdown",
   "metadata": {},
   "source": [
    "Поставьте 'x' в выполненных пунктах. Далее нажмите Shift+Enter."
   ]
  },
  {
   "cell_type": "markdown",
   "metadata": {},
   "source": [
    "- [x]  Jupyter Notebook открыт\n",
    "- [x]  Весь код выполняется без ошибок\n",
    "- [x]  Ячейки с кодом расположены в порядке исполнения\n",
    "- [x]  Выполнен шаг 1: данные подготовлены\n",
    "- [x]  Выполнен шаг 2: модели обучены и проверены\n",
    "    - [x]  Данные корректно разбиты на обучающую и валидационную выборки\n",
    "    - [x]  Модели обучены, предсказания сделаны\n",
    "    - [x]  Предсказания и правильные ответы на валидационной выборке сохранены\n",
    "    - [x]  На экране напечатаны результаты\n",
    "    - [x]  Сделаны выводы\n",
    "- [x]  Выполнен шаг 3: проведена подготовка к расчёту прибыли\n",
    "    - [x]  Для всех ключевых значений созданы константы Python\n",
    "    - [x]  Посчитано минимальное среднее количество продукта в месторождениях региона, достаточное для разработки\n",
    "    - [x]  По предыдущему пункту сделаны выводы\n",
    "    - [x]  Написана функция расчёта прибыли\n",
    "- [x]  Выполнен шаг 4: посчитаны риски и прибыль\n",
    "    - [x]  Проведена процедура *Bootstrap*\n",
    "    - [x]  Все параметры бутстрепа соответствуют условию\n",
    "    - [x]  Найдены все нужные величины\n",
    "    - [x]  Предложен регион для разработки месторождения\n",
    "    - [x]  Выбор региона обоснован"
   ]
  }
 ],
 "metadata": {
  "ExecuteTimeLog": [
   {
    "duration": 535,
    "start_time": "2021-08-14T19:18:29.603Z"
   },
   {
    "duration": 325,
    "start_time": "2021-08-14T19:19:07.464Z"
   },
   {
    "duration": 23,
    "start_time": "2021-08-14T19:20:22.975Z"
   },
   {
    "duration": 354,
    "start_time": "2021-08-14T19:38:25.040Z"
   },
   {
    "duration": 246,
    "start_time": "2021-08-14T19:38:41.649Z"
   },
   {
    "duration": 866,
    "start_time": "2021-08-14T19:39:11.348Z"
   },
   {
    "duration": 223,
    "start_time": "2021-08-14T19:39:58.918Z"
   },
   {
    "duration": 43,
    "start_time": "2021-08-14T19:42:08.575Z"
   },
   {
    "duration": 10,
    "start_time": "2021-08-14T19:46:22.398Z"
   },
   {
    "duration": 425,
    "start_time": "2021-08-14T19:49:58.001Z"
   },
   {
    "duration": 24,
    "start_time": "2021-08-14T19:50:09.267Z"
   },
   {
    "duration": 284,
    "start_time": "2021-08-14T19:50:20.659Z"
   },
   {
    "duration": 47,
    "start_time": "2021-08-14T19:50:50.754Z"
   },
   {
    "duration": 245,
    "start_time": "2021-08-14T19:51:37.717Z"
   },
   {
    "duration": 44,
    "start_time": "2021-08-14T19:54:26.674Z"
   },
   {
    "duration": 229,
    "start_time": "2021-08-14T19:57:30.239Z"
   },
   {
    "duration": 30,
    "start_time": "2021-08-14T19:57:55.272Z"
   },
   {
    "duration": 248,
    "start_time": "2021-08-14T19:59:02.950Z"
   },
   {
    "duration": 240,
    "start_time": "2021-08-14T19:59:20.643Z"
   },
   {
    "duration": 233,
    "start_time": "2021-08-14T19:59:33.322Z"
   },
   {
    "duration": 248,
    "start_time": "2021-08-14T19:59:40.043Z"
   },
   {
    "duration": 246,
    "start_time": "2021-08-14T20:00:01.464Z"
   },
   {
    "duration": 233,
    "start_time": "2021-08-14T20:00:50.018Z"
   },
   {
    "duration": 6,
    "start_time": "2021-08-14T20:00:59.535Z"
   },
   {
    "duration": 931,
    "start_time": "2021-08-14T20:01:32.553Z"
   },
   {
    "duration": 327,
    "start_time": "2021-08-14T20:01:33.486Z"
   },
   {
    "duration": 25,
    "start_time": "2021-08-14T20:01:33.815Z"
   },
   {
    "duration": 21,
    "start_time": "2021-08-14T20:01:33.842Z"
   },
   {
    "duration": 29,
    "start_time": "2021-08-14T20:01:33.865Z"
   },
   {
    "duration": 11,
    "start_time": "2021-08-14T20:01:33.896Z"
   },
   {
    "duration": 86,
    "start_time": "2021-08-14T20:01:33.909Z"
   },
   {
    "duration": 26,
    "start_time": "2021-08-14T20:02:33.371Z"
   },
   {
    "duration": 340,
    "start_time": "2021-08-14T20:05:00.243Z"
   },
   {
    "duration": 4,
    "start_time": "2021-08-14T20:05:06.372Z"
   },
   {
    "duration": 14,
    "start_time": "2021-08-14T20:05:15.241Z"
   },
   {
    "duration": 13,
    "start_time": "2021-08-14T20:05:17.667Z"
   },
   {
    "duration": 3,
    "start_time": "2021-08-14T20:11:27.469Z"
   },
   {
    "duration": 226,
    "start_time": "2021-08-14T20:11:31.659Z"
   },
   {
    "duration": 13,
    "start_time": "2021-08-14T20:12:06.304Z"
   },
   {
    "duration": 4,
    "start_time": "2021-08-14T20:12:08.693Z"
   },
   {
    "duration": 8,
    "start_time": "2021-08-14T20:17:25.850Z"
   },
   {
    "duration": 224,
    "start_time": "2021-08-14T20:19:29.021Z"
   },
   {
    "duration": 10,
    "start_time": "2021-08-14T20:19:39.337Z"
   },
   {
    "duration": 26,
    "start_time": "2021-08-14T20:19:42.485Z"
   },
   {
    "duration": 4,
    "start_time": "2021-08-14T20:20:35.124Z"
   },
   {
    "duration": 2,
    "start_time": "2021-08-14T20:20:48.407Z"
   },
   {
    "duration": 24,
    "start_time": "2021-08-14T20:22:10.241Z"
   },
   {
    "duration": 3,
    "start_time": "2021-08-14T20:22:18.925Z"
   },
   {
    "duration": 4,
    "start_time": "2021-08-14T20:22:38.619Z"
   },
   {
    "duration": 4,
    "start_time": "2021-08-14T20:22:55.471Z"
   },
   {
    "duration": 3,
    "start_time": "2021-08-14T20:57:20.934Z"
   },
   {
    "duration": 4,
    "start_time": "2021-08-14T20:57:28.994Z"
   },
   {
    "duration": 5,
    "start_time": "2021-08-14T20:58:09.656Z"
   },
   {
    "duration": 3,
    "start_time": "2021-08-14T20:58:33.191Z"
   },
   {
    "duration": 3,
    "start_time": "2021-08-14T21:03:28.560Z"
   },
   {
    "duration": 3,
    "start_time": "2021-08-14T21:08:06.579Z"
   },
   {
    "duration": 4,
    "start_time": "2021-08-14T21:08:17.312Z"
   },
   {
    "duration": 233,
    "start_time": "2021-08-14T21:08:46.582Z"
   },
   {
    "duration": 3,
    "start_time": "2021-08-14T21:09:01.902Z"
   },
   {
    "duration": 3,
    "start_time": "2021-08-14T21:09:11.045Z"
   },
   {
    "duration": 4,
    "start_time": "2021-08-14T21:11:14.881Z"
   },
   {
    "duration": 216,
    "start_time": "2021-08-15T06:23:57.495Z"
   },
   {
    "duration": 994,
    "start_time": "2021-08-15T06:24:03.405Z"
   },
   {
    "duration": 576,
    "start_time": "2021-08-15T06:24:12.181Z"
   },
   {
    "duration": 2,
    "start_time": "2021-08-15T06:24:15.955Z"
   },
   {
    "duration": 388,
    "start_time": "2021-08-15T06:24:15.961Z"
   },
   {
    "duration": 2,
    "start_time": "2021-08-15T06:24:20.003Z"
   },
   {
    "duration": 397,
    "start_time": "2021-08-15T06:24:20.010Z"
   },
   {
    "duration": 26,
    "start_time": "2021-08-15T06:24:20.409Z"
   },
   {
    "duration": 18,
    "start_time": "2021-08-15T06:24:20.437Z"
   },
   {
    "duration": 28,
    "start_time": "2021-08-15T06:24:20.457Z"
   },
   {
    "duration": 16,
    "start_time": "2021-08-15T06:24:20.487Z"
   },
   {
    "duration": 86,
    "start_time": "2021-08-15T06:24:20.505Z"
   },
   {
    "duration": 97,
    "start_time": "2021-08-15T06:24:20.594Z"
   },
   {
    "duration": 92,
    "start_time": "2021-08-15T06:24:20.695Z"
   },
   {
    "duration": 95,
    "start_time": "2021-08-15T06:24:20.789Z"
   },
   {
    "duration": 96,
    "start_time": "2021-08-15T06:24:20.890Z"
   },
   {
    "duration": 4,
    "start_time": "2021-08-15T06:24:20.988Z"
   },
   {
    "duration": 26,
    "start_time": "2021-08-15T06:24:20.994Z"
   },
   {
    "duration": 6,
    "start_time": "2021-08-15T06:24:21.086Z"
   },
   {
    "duration": 96,
    "start_time": "2021-08-15T06:24:21.094Z"
   },
   {
    "duration": 3,
    "start_time": "2021-08-15T06:24:21.192Z"
   },
   {
    "duration": 5,
    "start_time": "2021-08-15T06:24:21.197Z"
   },
   {
    "duration": 5,
    "start_time": "2021-08-15T06:24:21.204Z"
   },
   {
    "duration": 5,
    "start_time": "2021-08-15T06:24:21.211Z"
   },
   {
    "duration": 228,
    "start_time": "2021-08-15T07:10:27.796Z"
   },
   {
    "duration": 188,
    "start_time": "2021-08-15T07:10:40.152Z"
   },
   {
    "duration": 343,
    "start_time": "2021-08-15T07:11:06.379Z"
   },
   {
    "duration": 308,
    "start_time": "2021-08-15T07:11:36.647Z"
   },
   {
    "duration": 1343,
    "start_time": "2021-08-15T07:11:45.665Z"
   },
   {
    "duration": 8,
    "start_time": "2021-08-15T07:12:13.992Z"
   },
   {
    "duration": 177,
    "start_time": "2021-08-15T07:23:42.493Z"
   },
   {
    "duration": 181,
    "start_time": "2021-08-15T07:24:59.165Z"
   },
   {
    "duration": 175,
    "start_time": "2021-08-15T07:26:53.382Z"
   },
   {
    "duration": 60,
    "start_time": "2021-08-15T07:26:57.977Z"
   },
   {
    "duration": 179,
    "start_time": "2021-08-15T07:27:12.213Z"
   },
   {
    "duration": 1021,
    "start_time": "2021-08-15T07:27:21.073Z"
   },
   {
    "duration": 376,
    "start_time": "2021-08-15T07:27:22.095Z"
   },
   {
    "duration": 31,
    "start_time": "2021-08-15T07:27:22.473Z"
   },
   {
    "duration": 23,
    "start_time": "2021-08-15T07:27:22.506Z"
   },
   {
    "duration": 9,
    "start_time": "2021-08-15T07:27:22.531Z"
   },
   {
    "duration": 16,
    "start_time": "2021-08-15T07:27:22.542Z"
   },
   {
    "duration": 42,
    "start_time": "2021-08-15T07:27:22.560Z"
   },
   {
    "duration": 6,
    "start_time": "2021-08-15T07:27:22.687Z"
   },
   {
    "duration": 4,
    "start_time": "2021-08-15T07:27:22.786Z"
   },
   {
    "duration": 92,
    "start_time": "2021-08-15T07:27:22.792Z"
   },
   {
    "duration": 7,
    "start_time": "2021-08-15T07:27:22.887Z"
   },
   {
    "duration": 5,
    "start_time": "2021-08-15T07:27:22.985Z"
   },
   {
    "duration": 27,
    "start_time": "2021-08-15T07:27:22.991Z"
   },
   {
    "duration": 6,
    "start_time": "2021-08-15T07:27:23.087Z"
   },
   {
    "duration": 5,
    "start_time": "2021-08-15T07:27:23.185Z"
   },
   {
    "duration": 3,
    "start_time": "2021-08-15T07:27:23.191Z"
   },
   {
    "duration": 4,
    "start_time": "2021-08-15T07:27:23.196Z"
   },
   {
    "duration": 4,
    "start_time": "2021-08-15T07:27:23.202Z"
   },
   {
    "duration": 262,
    "start_time": "2021-08-15T07:27:23.207Z"
   },
   {
    "duration": 183,
    "start_time": "2021-08-15T07:28:03.979Z"
   },
   {
    "duration": 4,
    "start_time": "2021-08-15T07:56:26.326Z"
   },
   {
    "duration": 3,
    "start_time": "2021-08-15T07:57:00.577Z"
   },
   {
    "duration": 346,
    "start_time": "2021-08-15T07:57:18.139Z"
   },
   {
    "duration": 4,
    "start_time": "2021-08-15T07:57:32.561Z"
   },
   {
    "duration": 365,
    "start_time": "2021-08-15T07:57:57.054Z"
   },
   {
    "duration": 7,
    "start_time": "2021-08-15T07:58:13.761Z"
   },
   {
    "duration": 9,
    "start_time": "2021-08-15T07:58:16.985Z"
   },
   {
    "duration": 9,
    "start_time": "2021-08-15T08:01:49.526Z"
   },
   {
    "duration": 4,
    "start_time": "2021-08-15T08:01:56.546Z"
   },
   {
    "duration": 8,
    "start_time": "2021-08-15T08:01:57.982Z"
   },
   {
    "duration": 11,
    "start_time": "2021-08-15T08:19:06.830Z"
   },
   {
    "duration": 10,
    "start_time": "2021-08-15T08:20:04.448Z"
   },
   {
    "duration": 10,
    "start_time": "2021-08-15T08:22:30.761Z"
   },
   {
    "duration": 10,
    "start_time": "2021-08-15T08:22:43.052Z"
   },
   {
    "duration": 324,
    "start_time": "2021-08-15T08:27:01.668Z"
   },
   {
    "duration": 294,
    "start_time": "2021-08-15T08:27:17.318Z"
   },
   {
    "duration": 10,
    "start_time": "2021-08-15T08:28:08.872Z"
   },
   {
    "duration": 181,
    "start_time": "2021-08-15T08:32:01.755Z"
   },
   {
    "duration": 209,
    "start_time": "2021-08-15T08:33:21.016Z"
   },
   {
    "duration": 4,
    "start_time": "2021-08-15T08:33:32.228Z"
   },
   {
    "duration": 190,
    "start_time": "2021-08-15T08:34:37.881Z"
   },
   {
    "duration": 18,
    "start_time": "2021-08-15T08:34:51.072Z"
   },
   {
    "duration": 179,
    "start_time": "2021-08-15T08:34:55.939Z"
   },
   {
    "duration": 247,
    "start_time": "2021-08-15T08:35:03.286Z"
   },
   {
    "duration": 174,
    "start_time": "2021-08-15T08:36:46.425Z"
   },
   {
    "duration": 203,
    "start_time": "2021-08-15T08:37:11.464Z"
   },
   {
    "duration": 406,
    "start_time": "2021-08-15T08:37:57.295Z"
   },
   {
    "duration": 3,
    "start_time": "2021-08-15T08:38:03.651Z"
   },
   {
    "duration": 11,
    "start_time": "2021-08-15T08:44:44.590Z"
   },
   {
    "duration": 4,
    "start_time": "2021-08-15T08:45:28.680Z"
   },
   {
    "duration": 9,
    "start_time": "2021-08-15T08:45:30.336Z"
   },
   {
    "duration": 9,
    "start_time": "2021-08-15T08:45:38.860Z"
   },
   {
    "duration": 3,
    "start_time": "2021-08-15T08:49:07.976Z"
   },
   {
    "duration": 191,
    "start_time": "2021-08-15T09:09:36.763Z"
   },
   {
    "duration": 1338,
    "start_time": "2021-08-15T17:06:59.211Z"
   },
   {
    "duration": 124,
    "start_time": "2021-08-15T17:07:12.544Z"
   },
   {
    "duration": 474,
    "start_time": "2021-08-15T17:07:47.633Z"
   },
   {
    "duration": 352,
    "start_time": "2021-08-15T17:08:07.494Z"
   },
   {
    "duration": 1278,
    "start_time": "2021-08-15T17:08:25.036Z"
   },
   {
    "duration": 474,
    "start_time": "2021-08-15T17:08:26.316Z"
   },
   {
    "duration": 37,
    "start_time": "2021-08-15T17:08:26.794Z"
   },
   {
    "duration": 28,
    "start_time": "2021-08-15T17:08:26.835Z"
   },
   {
    "duration": 39,
    "start_time": "2021-08-15T17:08:26.866Z"
   },
   {
    "duration": 21,
    "start_time": "2021-08-15T17:08:26.907Z"
   },
   {
    "duration": 75,
    "start_time": "2021-08-15T17:08:26.931Z"
   },
   {
    "duration": 93,
    "start_time": "2021-08-15T17:08:27.011Z"
   },
   {
    "duration": 92,
    "start_time": "2021-08-15T17:08:27.109Z"
   },
   {
    "duration": 6,
    "start_time": "2021-08-15T17:08:27.204Z"
   },
   {
    "duration": 188,
    "start_time": "2021-08-15T17:08:27.213Z"
   },
   {
    "duration": 99,
    "start_time": "2021-08-15T17:08:27.404Z"
   },
   {
    "duration": 11,
    "start_time": "2021-08-15T17:08:27.506Z"
   },
   {
    "duration": 86,
    "start_time": "2021-08-15T17:08:27.520Z"
   },
   {
    "duration": 95,
    "start_time": "2021-08-15T17:08:27.608Z"
   },
   {
    "duration": 94,
    "start_time": "2021-08-15T17:08:27.707Z"
   },
   {
    "duration": 4,
    "start_time": "2021-08-15T17:08:27.804Z"
   },
   {
    "duration": 6,
    "start_time": "2021-08-15T17:08:27.812Z"
   },
   {
    "duration": 7,
    "start_time": "2021-08-15T17:08:27.821Z"
   },
   {
    "duration": 6,
    "start_time": "2021-08-15T17:08:27.831Z"
   },
   {
    "duration": 61,
    "start_time": "2021-08-15T17:08:27.840Z"
   },
   {
    "duration": 11,
    "start_time": "2021-08-15T17:08:27.904Z"
   },
   {
    "duration": 13,
    "start_time": "2021-08-15T17:08:27.919Z"
   },
   {
    "duration": 69,
    "start_time": "2021-08-15T17:08:27.934Z"
   },
   {
    "duration": 489,
    "start_time": "2021-08-15T17:08:28.006Z"
   },
   {
    "duration": 362,
    "start_time": "2021-08-15T17:08:46.409Z"
   },
   {
    "duration": 8928,
    "start_time": "2021-08-15T17:08:59.022Z"
   },
   {
    "duration": 8100,
    "start_time": "2021-08-15T17:14:03.440Z"
   },
   {
    "duration": 8773,
    "start_time": "2021-08-15T17:30:56.860Z"
   },
   {
    "duration": 9852,
    "start_time": "2021-08-15T17:31:18.723Z"
   },
   {
    "duration": 543,
    "start_time": "2021-08-15T17:35:56.527Z"
   },
   {
    "duration": 23922,
    "start_time": "2021-08-15T17:36:36.881Z"
   },
   {
    "duration": 8269,
    "start_time": "2021-08-15T17:37:00.806Z"
   },
   {
    "duration": 9754,
    "start_time": "2021-08-15T17:43:01.778Z"
   },
   {
    "duration": 4,
    "start_time": "2021-08-15T17:43:47.142Z"
   },
   {
    "duration": 1359,
    "start_time": "2021-08-15T20:52:34.524Z"
   },
   {
    "duration": 3146,
    "start_time": "2021-08-15T20:52:35.885Z"
   },
   {
    "duration": 44,
    "start_time": "2021-08-15T20:52:39.035Z"
   },
   {
    "duration": 31,
    "start_time": "2021-08-15T20:52:39.083Z"
   },
   {
    "duration": 14,
    "start_time": "2021-08-15T20:52:39.117Z"
   },
   {
    "duration": 21,
    "start_time": "2021-08-15T20:52:39.166Z"
   },
   {
    "duration": 91,
    "start_time": "2021-08-15T20:52:39.190Z"
   },
   {
    "duration": 7,
    "start_time": "2021-08-15T20:52:39.368Z"
   },
   {
    "duration": 9,
    "start_time": "2021-08-15T20:52:39.378Z"
   },
   {
    "duration": 83,
    "start_time": "2021-08-15T20:52:39.390Z"
   },
   {
    "duration": 94,
    "start_time": "2021-08-15T20:52:39.476Z"
   },
   {
    "duration": 7,
    "start_time": "2021-08-15T20:52:39.573Z"
   },
   {
    "duration": 185,
    "start_time": "2021-08-15T20:52:39.582Z"
   },
   {
    "duration": 97,
    "start_time": "2021-08-15T20:52:39.770Z"
   },
   {
    "duration": 6,
    "start_time": "2021-08-15T20:52:39.870Z"
   },
   {
    "duration": 4,
    "start_time": "2021-08-15T20:52:39.879Z"
   },
   {
    "duration": 7,
    "start_time": "2021-08-15T20:52:39.885Z"
   },
   {
    "duration": 8,
    "start_time": "2021-08-15T20:52:39.894Z"
   },
   {
    "duration": 6,
    "start_time": "2021-08-15T20:52:39.904Z"
   },
   {
    "duration": 4,
    "start_time": "2021-08-15T20:52:39.913Z"
   },
   {
    "duration": 15,
    "start_time": "2021-08-15T20:52:44.293Z"
   },
   {
    "duration": 6,
    "start_time": "2021-08-15T20:52:48.884Z"
   },
   {
    "duration": 4,
    "start_time": "2021-08-15T20:53:13.350Z"
   },
   {
    "duration": 861,
    "start_time": "2021-08-15T20:53:13.670Z"
   },
   {
    "duration": 5,
    "start_time": "2021-08-15T20:53:29.355Z"
   },
   {
    "duration": 611,
    "start_time": "2021-08-15T20:53:29.818Z"
   },
   {
    "duration": 4,
    "start_time": "2021-08-15T20:53:34.772Z"
   },
   {
    "duration": 14,
    "start_time": "2021-08-15T20:53:34.972Z"
   },
   {
    "duration": 299,
    "start_time": "2021-08-15T20:53:42.540Z"
   },
   {
    "duration": 306,
    "start_time": "2021-08-15T20:53:53.825Z"
   },
   {
    "duration": 19,
    "start_time": "2021-08-15T20:54:17.853Z"
   },
   {
    "duration": 6,
    "start_time": "2021-08-15T20:54:29.542Z"
   },
   {
    "duration": 12,
    "start_time": "2021-08-15T20:54:53.862Z"
   },
   {
    "duration": 9,
    "start_time": "2021-08-15T20:55:11.431Z"
   },
   {
    "duration": 293,
    "start_time": "2021-08-15T20:55:17.325Z"
   },
   {
    "duration": 295,
    "start_time": "2021-08-15T20:55:19.278Z"
   },
   {
    "duration": 9,
    "start_time": "2021-08-15T20:55:25.522Z"
   },
   {
    "duration": 14,
    "start_time": "2021-08-15T20:55:31.773Z"
   },
   {
    "duration": 5,
    "start_time": "2021-08-15T20:55:45.972Z"
   },
   {
    "duration": 9,
    "start_time": "2021-08-15T20:55:49.715Z"
   },
   {
    "duration": 6,
    "start_time": "2021-08-15T20:55:53.520Z"
   },
   {
    "duration": 6,
    "start_time": "2021-08-15T20:56:00.275Z"
   },
   {
    "duration": 5,
    "start_time": "2021-08-15T20:56:17.722Z"
   },
   {
    "duration": 5,
    "start_time": "2021-08-15T20:56:44.621Z"
   },
   {
    "duration": 5,
    "start_time": "2021-08-15T20:56:49.022Z"
   },
   {
    "duration": 5,
    "start_time": "2021-08-15T20:56:54.666Z"
   },
   {
    "duration": 11,
    "start_time": "2021-08-15T20:57:55.754Z"
   },
   {
    "duration": 6,
    "start_time": "2021-08-15T20:58:22.862Z"
   },
   {
    "duration": 6,
    "start_time": "2021-08-15T20:58:56.240Z"
   },
   {
    "duration": 12,
    "start_time": "2021-08-15T20:59:06.208Z"
   },
   {
    "duration": 7,
    "start_time": "2021-08-15T20:59:22.392Z"
   },
   {
    "duration": 4,
    "start_time": "2021-08-15T20:59:40.202Z"
   },
   {
    "duration": 9,
    "start_time": "2021-08-15T20:59:42.170Z"
   },
   {
    "duration": 5,
    "start_time": "2021-08-15T20:59:46.922Z"
   },
   {
    "duration": 296,
    "start_time": "2021-08-16T05:35:20.789Z"
   },
   {
    "duration": 259,
    "start_time": "2021-08-16T05:35:56.986Z"
   },
   {
    "duration": 280,
    "start_time": "2021-08-16T05:36:23.982Z"
   },
   {
    "duration": 254,
    "start_time": "2021-08-16T05:36:56.956Z"
   },
   {
    "duration": 1337,
    "start_time": "2021-08-16T05:37:05.162Z"
   },
   {
    "duration": 490,
    "start_time": "2021-08-16T05:37:06.501Z"
   },
   {
    "duration": 34,
    "start_time": "2021-08-16T05:37:06.994Z"
   },
   {
    "duration": 43,
    "start_time": "2021-08-16T05:37:07.030Z"
   },
   {
    "duration": 12,
    "start_time": "2021-08-16T05:37:07.076Z"
   },
   {
    "duration": 27,
    "start_time": "2021-08-16T05:37:07.090Z"
   },
   {
    "duration": 57,
    "start_time": "2021-08-16T05:37:07.119Z"
   },
   {
    "duration": 95,
    "start_time": "2021-08-16T05:37:07.272Z"
   },
   {
    "duration": 9,
    "start_time": "2021-08-16T05:37:07.370Z"
   },
   {
    "duration": 91,
    "start_time": "2021-08-16T05:37:07.381Z"
   },
   {
    "duration": 96,
    "start_time": "2021-08-16T05:37:07.476Z"
   },
   {
    "duration": 9,
    "start_time": "2021-08-16T05:37:07.574Z"
   },
   {
    "duration": 96,
    "start_time": "2021-08-16T05:37:07.586Z"
   },
   {
    "duration": 98,
    "start_time": "2021-08-16T05:37:07.769Z"
   },
   {
    "duration": 6,
    "start_time": "2021-08-16T05:37:07.870Z"
   },
   {
    "duration": 5,
    "start_time": "2021-08-16T05:37:07.878Z"
   },
   {
    "duration": 10,
    "start_time": "2021-08-16T05:37:07.885Z"
   },
   {
    "duration": 8,
    "start_time": "2021-08-16T05:37:07.897Z"
   },
   {
    "duration": 7,
    "start_time": "2021-08-16T05:37:07.907Z"
   },
   {
    "duration": 54,
    "start_time": "2021-08-16T05:37:07.916Z"
   },
   {
    "duration": 21,
    "start_time": "2021-08-16T05:37:07.973Z"
   },
   {
    "duration": 16,
    "start_time": "2021-08-16T05:37:07.996Z"
   },
   {
    "duration": 15,
    "start_time": "2021-08-16T05:37:08.017Z"
   },
   {
    "duration": 8044,
    "start_time": "2021-08-16T05:37:08.068Z"
   },
   {
    "duration": 24566,
    "start_time": "2021-08-16T05:37:16.114Z"
   },
   {
    "duration": 5512,
    "start_time": "2021-08-16T05:37:40.683Z"
   },
   {
    "duration": 1282,
    "start_time": "2021-08-16T05:38:26.185Z"
   },
   {
    "duration": 455,
    "start_time": "2021-08-16T05:38:27.469Z"
   },
   {
    "duration": 39,
    "start_time": "2021-08-16T05:38:27.928Z"
   },
   {
    "duration": 28,
    "start_time": "2021-08-16T05:38:27.970Z"
   },
   {
    "duration": 11,
    "start_time": "2021-08-16T05:38:28.000Z"
   },
   {
    "duration": 23,
    "start_time": "2021-08-16T05:38:28.013Z"
   },
   {
    "duration": 128,
    "start_time": "2021-08-16T05:38:28.039Z"
   },
   {
    "duration": 98,
    "start_time": "2021-08-16T05:38:28.173Z"
   },
   {
    "duration": 6,
    "start_time": "2021-08-16T05:38:28.274Z"
   },
   {
    "duration": 90,
    "start_time": "2021-08-16T05:38:28.282Z"
   },
   {
    "duration": 96,
    "start_time": "2021-08-16T05:38:28.375Z"
   },
   {
    "duration": 7,
    "start_time": "2021-08-16T05:38:28.475Z"
   },
   {
    "duration": 183,
    "start_time": "2021-08-16T05:38:28.485Z"
   },
   {
    "duration": 97,
    "start_time": "2021-08-16T05:38:28.672Z"
   },
   {
    "duration": 6,
    "start_time": "2021-08-16T05:38:28.772Z"
   },
   {
    "duration": 4,
    "start_time": "2021-08-16T05:38:28.780Z"
   },
   {
    "duration": 6,
    "start_time": "2021-08-16T05:38:28.787Z"
   },
   {
    "duration": 8,
    "start_time": "2021-08-16T05:38:28.796Z"
   },
   {
    "duration": 6,
    "start_time": "2021-08-16T05:38:28.806Z"
   },
   {
    "duration": 52,
    "start_time": "2021-08-16T05:38:28.815Z"
   },
   {
    "duration": 14,
    "start_time": "2021-08-16T05:38:28.870Z"
   },
   {
    "duration": 14,
    "start_time": "2021-08-16T05:38:28.887Z"
   },
   {
    "duration": 13,
    "start_time": "2021-08-16T05:38:28.905Z"
   },
   {
    "duration": 5602,
    "start_time": "2021-08-16T05:38:28.921Z"
   },
   {
    "duration": 6219,
    "start_time": "2021-08-16T05:38:34.526Z"
   },
   {
    "duration": 5700,
    "start_time": "2021-08-16T05:38:40.748Z"
   },
   {
    "duration": 5576,
    "start_time": "2021-08-16T05:44:28.249Z"
   },
   {
    "duration": 5662,
    "start_time": "2021-08-16T05:45:10.026Z"
   },
   {
    "duration": 5860,
    "start_time": "2021-08-16T05:46:04.734Z"
   },
   {
    "duration": 5607,
    "start_time": "2021-08-16T05:46:56.575Z"
   },
   {
    "duration": 5616,
    "start_time": "2021-08-16T05:48:48.193Z"
   },
   {
    "duration": 6034,
    "start_time": "2021-08-16T05:49:46.433Z"
   },
   {
    "duration": 90,
    "start_time": "2021-08-16T05:50:49.605Z"
   },
   {
    "duration": 5857,
    "start_time": "2021-08-16T05:51:00.140Z"
   },
   {
    "duration": 5775,
    "start_time": "2021-08-16T05:51:21.974Z"
   },
   {
    "duration": 5607,
    "start_time": "2021-08-16T05:52:01.609Z"
   },
   {
    "duration": 6363,
    "start_time": "2021-08-16T05:54:34.986Z"
   },
   {
    "duration": 6035,
    "start_time": "2021-08-16T05:55:05.522Z"
   },
   {
    "duration": 5602,
    "start_time": "2021-08-16T05:56:46.625Z"
   },
   {
    "duration": 6077,
    "start_time": "2021-08-16T05:56:52.229Z"
   },
   {
    "duration": 5674,
    "start_time": "2021-08-16T06:14:21.499Z"
   },
   {
    "duration": 6324,
    "start_time": "2021-08-16T06:14:46.032Z"
   },
   {
    "duration": 5878,
    "start_time": "2021-08-16T06:15:08.428Z"
   },
   {
    "duration": 1335,
    "start_time": "2021-08-16T06:15:26.856Z"
   },
   {
    "duration": 464,
    "start_time": "2021-08-16T06:15:28.194Z"
   },
   {
    "duration": 38,
    "start_time": "2021-08-16T06:15:28.661Z"
   },
   {
    "duration": 31,
    "start_time": "2021-08-16T06:15:28.702Z"
   },
   {
    "duration": 43,
    "start_time": "2021-08-16T06:15:28.736Z"
   },
   {
    "duration": 19,
    "start_time": "2021-08-16T06:15:28.791Z"
   },
   {
    "duration": 63,
    "start_time": "2021-08-16T06:15:28.813Z"
   },
   {
    "duration": 100,
    "start_time": "2021-08-16T06:15:28.969Z"
   },
   {
    "duration": 5,
    "start_time": "2021-08-16T06:15:29.072Z"
   },
   {
    "duration": 92,
    "start_time": "2021-08-16T06:15:29.080Z"
   },
   {
    "duration": 92,
    "start_time": "2021-08-16T06:15:29.175Z"
   },
   {
    "duration": 9,
    "start_time": "2021-08-16T06:15:29.270Z"
   },
   {
    "duration": 91,
    "start_time": "2021-08-16T06:15:29.281Z"
   },
   {
    "duration": 95,
    "start_time": "2021-08-16T06:15:29.374Z"
   },
   {
    "duration": 8,
    "start_time": "2021-08-16T06:15:29.472Z"
   },
   {
    "duration": 5,
    "start_time": "2021-08-16T06:15:29.482Z"
   },
   {
    "duration": 8,
    "start_time": "2021-08-16T06:15:29.489Z"
   },
   {
    "duration": 68,
    "start_time": "2021-08-16T06:15:29.500Z"
   },
   {
    "duration": 8,
    "start_time": "2021-08-16T06:15:29.571Z"
   },
   {
    "duration": 5,
    "start_time": "2021-08-16T06:15:29.582Z"
   },
   {
    "duration": 21,
    "start_time": "2021-08-16T06:15:29.589Z"
   },
   {
    "duration": 15,
    "start_time": "2021-08-16T06:15:29.612Z"
   },
   {
    "duration": 15,
    "start_time": "2021-08-16T06:15:29.667Z"
   },
   {
    "duration": 5729,
    "start_time": "2021-08-16T06:15:29.684Z"
   },
   {
    "duration": 6199,
    "start_time": "2021-08-16T06:15:35.416Z"
   },
   {
    "duration": 5456,
    "start_time": "2021-08-16T06:15:41.618Z"
   },
   {
    "duration": 364,
    "start_time": "2021-08-16T06:15:47.076Z"
   },
   {
    "duration": 86,
    "start_time": "2021-08-16T06:16:37.100Z"
   },
   {
    "duration": 277,
    "start_time": "2021-08-16T06:16:43.763Z"
   },
   {
    "duration": 232,
    "start_time": "2021-08-16T06:17:02.201Z"
   },
   {
    "duration": 217,
    "start_time": "2021-08-16T06:17:27.225Z"
   },
   {
    "duration": 5,
    "start_time": "2021-08-16T06:17:35.059Z"
   },
   {
    "duration": 4,
    "start_time": "2021-08-16T06:17:41.655Z"
   },
   {
    "duration": 5,
    "start_time": "2021-08-16T06:17:50.772Z"
   },
   {
    "duration": 5,
    "start_time": "2021-08-16T06:18:10.234Z"
   },
   {
    "duration": 5,
    "start_time": "2021-08-16T06:19:59.575Z"
   },
   {
    "duration": 1299,
    "start_time": "2021-08-16T06:20:22.676Z"
   },
   {
    "duration": 461,
    "start_time": "2021-08-16T06:20:23.978Z"
   },
   {
    "duration": 38,
    "start_time": "2021-08-16T06:20:24.441Z"
   },
   {
    "duration": 27,
    "start_time": "2021-08-16T06:20:24.481Z"
   },
   {
    "duration": 14,
    "start_time": "2021-08-16T06:20:24.510Z"
   },
   {
    "duration": 55,
    "start_time": "2021-08-16T06:20:24.526Z"
   },
   {
    "duration": 83,
    "start_time": "2021-08-16T06:20:24.585Z"
   },
   {
    "duration": 93,
    "start_time": "2021-08-16T06:20:24.674Z"
   },
   {
    "duration": 6,
    "start_time": "2021-08-16T06:20:24.771Z"
   },
   {
    "duration": 91,
    "start_time": "2021-08-16T06:20:24.780Z"
   },
   {
    "duration": 96,
    "start_time": "2021-08-16T06:20:24.874Z"
   },
   {
    "duration": 5,
    "start_time": "2021-08-16T06:20:24.972Z"
   },
   {
    "duration": 99,
    "start_time": "2021-08-16T06:20:24.980Z"
   },
   {
    "duration": 184,
    "start_time": "2021-08-16T06:20:25.082Z"
   },
   {
    "duration": 5,
    "start_time": "2021-08-16T06:20:25.268Z"
   },
   {
    "duration": 5,
    "start_time": "2021-08-16T06:20:25.275Z"
   },
   {
    "duration": 8,
    "start_time": "2021-08-16T06:20:25.282Z"
   },
   {
    "duration": 9,
    "start_time": "2021-08-16T06:20:25.292Z"
   },
   {
    "duration": 17,
    "start_time": "2021-08-16T06:20:25.303Z"
   },
   {
    "duration": 48,
    "start_time": "2021-08-16T06:20:25.322Z"
   },
   {
    "duration": 14,
    "start_time": "2021-08-16T06:20:25.372Z"
   },
   {
    "duration": 13,
    "start_time": "2021-08-16T06:20:25.389Z"
   },
   {
    "duration": 5832,
    "start_time": "2021-08-16T06:20:25.406Z"
   },
   {
    "duration": 6105,
    "start_time": "2021-08-16T06:20:31.240Z"
   },
   {
    "duration": 5743,
    "start_time": "2021-08-16T06:20:37.347Z"
   },
   {
    "duration": 5,
    "start_time": "2021-08-16T06:20:43.093Z"
   },
   {
    "duration": 26,
    "start_time": "2021-08-16T06:21:13.970Z"
   },
   {
    "duration": 17,
    "start_time": "2021-08-16T06:21:35.195Z"
   },
   {
    "duration": 1424,
    "start_time": "2021-08-16T08:30:11.891Z"
   },
   {
    "duration": 498,
    "start_time": "2021-08-16T08:30:13.318Z"
   },
   {
    "duration": 33,
    "start_time": "2021-08-16T08:30:13.819Z"
   },
   {
    "duration": 42,
    "start_time": "2021-08-16T08:30:13.855Z"
   },
   {
    "duration": 13,
    "start_time": "2021-08-16T08:30:13.899Z"
   },
   {
    "duration": 26,
    "start_time": "2021-08-16T08:30:13.915Z"
   },
   {
    "duration": 56,
    "start_time": "2021-08-16T08:30:13.943Z"
   },
   {
    "duration": 96,
    "start_time": "2021-08-16T08:30:14.091Z"
   },
   {
    "duration": 8,
    "start_time": "2021-08-16T08:30:14.190Z"
   },
   {
    "duration": 91,
    "start_time": "2021-08-16T08:30:14.200Z"
   },
   {
    "duration": 93,
    "start_time": "2021-08-16T08:30:14.294Z"
   },
   {
    "duration": 17,
    "start_time": "2021-08-16T08:30:14.389Z"
   },
   {
    "duration": 90,
    "start_time": "2021-08-16T08:30:14.409Z"
   },
   {
    "duration": 89,
    "start_time": "2021-08-16T08:30:14.502Z"
   },
   {
    "duration": 98,
    "start_time": "2021-08-16T08:30:14.594Z"
   },
   {
    "duration": 4,
    "start_time": "2021-08-16T08:30:14.695Z"
   },
   {
    "duration": 12,
    "start_time": "2021-08-16T08:30:14.701Z"
   },
   {
    "duration": 9,
    "start_time": "2021-08-16T08:30:14.715Z"
   },
   {
    "duration": 5,
    "start_time": "2021-08-16T08:30:15.331Z"
   },
   {
    "duration": 5,
    "start_time": "2021-08-16T08:30:44.180Z"
   },
   {
    "duration": 14,
    "start_time": "2021-08-16T08:30:44.816Z"
   },
   {
    "duration": 16,
    "start_time": "2021-08-16T08:30:53.074Z"
   },
   {
    "duration": 12,
    "start_time": "2021-08-16T08:30:54.065Z"
   },
   {
    "duration": 4,
    "start_time": "2021-08-16T08:30:59.288Z"
   },
   {
    "duration": 12,
    "start_time": "2021-08-16T08:30:59.826Z"
   },
   {
    "duration": 14,
    "start_time": "2021-08-16T08:31:31.599Z"
   },
   {
    "duration": 18,
    "start_time": "2021-08-16T08:31:33.982Z"
   },
   {
    "duration": 1309,
    "start_time": "2021-08-16T09:17:04.667Z"
   },
   {
    "duration": 460,
    "start_time": "2021-08-16T09:17:05.979Z"
   },
   {
    "duration": 44,
    "start_time": "2021-08-16T09:17:06.442Z"
   },
   {
    "duration": 27,
    "start_time": "2021-08-16T09:17:06.490Z"
   },
   {
    "duration": 13,
    "start_time": "2021-08-16T09:17:06.520Z"
   },
   {
    "duration": 44,
    "start_time": "2021-08-16T09:17:06.535Z"
   },
   {
    "duration": 89,
    "start_time": "2021-08-16T09:17:06.581Z"
   },
   {
    "duration": 96,
    "start_time": "2021-08-16T09:17:06.676Z"
   },
   {
    "duration": 6,
    "start_time": "2021-08-16T09:17:06.776Z"
   },
   {
    "duration": 89,
    "start_time": "2021-08-16T09:17:06.784Z"
   },
   {
    "duration": 97,
    "start_time": "2021-08-16T09:17:06.875Z"
   },
   {
    "duration": 91,
    "start_time": "2021-08-16T09:17:06.976Z"
   },
   {
    "duration": 98,
    "start_time": "2021-08-16T09:17:07.070Z"
   },
   {
    "duration": 96,
    "start_time": "2021-08-16T09:17:07.171Z"
   },
   {
    "duration": 8,
    "start_time": "2021-08-16T09:17:07.270Z"
   },
   {
    "duration": 10,
    "start_time": "2021-08-16T09:17:07.280Z"
   },
   {
    "duration": 8,
    "start_time": "2021-08-16T09:17:07.293Z"
   },
   {
    "duration": 8,
    "start_time": "2021-08-16T09:17:07.304Z"
   },
   {
    "duration": 17,
    "start_time": "2021-08-16T09:17:07.314Z"
   },
   {
    "duration": 10,
    "start_time": "2021-08-16T09:17:07.333Z"
   },
   {
    "duration": 24,
    "start_time": "2021-08-16T09:17:07.345Z"
   },
   {
    "duration": 421,
    "start_time": "2021-08-16T09:17:07.372Z"
   },
   {
    "duration": 35635,
    "start_time": "2021-08-16T09:16:32.160Z"
   },
   {
    "duration": 35629,
    "start_time": "2021-08-16T09:16:32.168Z"
   },
   {
    "duration": 35625,
    "start_time": "2021-08-16T09:16:32.174Z"
   },
   {
    "duration": 35619,
    "start_time": "2021-08-16T09:16:32.181Z"
   },
   {
    "duration": 30,
    "start_time": "2021-08-16T09:18:19.900Z"
   },
   {
    "duration": 8412,
    "start_time": "2021-08-16T09:18:52.920Z"
   },
   {
    "duration": 241,
    "start_time": "2021-08-16T09:19:08.069Z"
   },
   {
    "duration": 8377,
    "start_time": "2021-08-16T09:19:45.558Z"
   },
   {
    "duration": 8370,
    "start_time": "2021-08-16T09:20:14.077Z"
   },
   {
    "duration": 24,
    "start_time": "2021-08-16T09:21:09.146Z"
   },
   {
    "duration": 28,
    "start_time": "2021-08-16T11:23:17.471Z"
   },
   {
    "duration": 15,
    "start_time": "2021-08-16T11:23:33.560Z"
   },
   {
    "duration": 1345,
    "start_time": "2021-08-16T11:23:49.444Z"
   },
   {
    "duration": 465,
    "start_time": "2021-08-16T11:23:50.792Z"
   },
   {
    "duration": 38,
    "start_time": "2021-08-16T11:23:51.261Z"
   },
   {
    "duration": 28,
    "start_time": "2021-08-16T11:23:51.302Z"
   },
   {
    "duration": 40,
    "start_time": "2021-08-16T11:23:51.333Z"
   },
   {
    "duration": 22,
    "start_time": "2021-08-16T11:23:51.376Z"
   },
   {
    "duration": 76,
    "start_time": "2021-08-16T11:23:51.400Z"
   },
   {
    "duration": 6,
    "start_time": "2021-08-16T11:23:51.569Z"
   },
   {
    "duration": 12,
    "start_time": "2021-08-16T11:23:51.578Z"
   },
   {
    "duration": 101,
    "start_time": "2021-08-16T11:23:51.592Z"
   },
   {
    "duration": 7,
    "start_time": "2021-08-16T11:23:51.769Z"
   },
   {
    "duration": 10,
    "start_time": "2021-08-16T11:23:51.869Z"
   },
   {
    "duration": 90,
    "start_time": "2021-08-16T11:23:51.882Z"
   },
   {
    "duration": 94,
    "start_time": "2021-08-16T11:23:51.975Z"
   },
   {
    "duration": 9,
    "start_time": "2021-08-16T11:23:52.071Z"
   },
   {
    "duration": 10,
    "start_time": "2021-08-16T11:23:52.082Z"
   },
   {
    "duration": 78,
    "start_time": "2021-08-16T11:23:52.094Z"
   },
   {
    "duration": 11,
    "start_time": "2021-08-16T11:23:52.175Z"
   },
   {
    "duration": 27,
    "start_time": "2021-08-16T11:23:52.188Z"
   },
   {
    "duration": 4769,
    "start_time": "2021-08-16T11:23:52.218Z"
   },
   {
    "duration": 4696,
    "start_time": "2021-08-16T11:23:56.990Z"
   },
   {
    "duration": 4652,
    "start_time": "2021-08-16T11:24:01.689Z"
   },
   {
    "duration": 33,
    "start_time": "2021-08-16T11:24:06.347Z"
   },
   {
    "duration": 4671,
    "start_time": "2021-08-16T11:25:29.397Z"
   },
   {
    "duration": 4646,
    "start_time": "2021-08-16T11:26:20.028Z"
   },
   {
    "duration": 4668,
    "start_time": "2021-08-16T11:26:51.101Z"
   },
   {
    "duration": 5893,
    "start_time": "2021-08-16T11:27:33.015Z"
   },
   {
    "duration": 4964,
    "start_time": "2021-08-16T11:28:16.062Z"
   },
   {
    "duration": 4809,
    "start_time": "2021-08-16T11:28:49.460Z"
   },
   {
    "duration": 4734,
    "start_time": "2021-08-16T11:29:43.041Z"
   },
   {
    "duration": 4638,
    "start_time": "2021-08-16T11:29:54.000Z"
   },
   {
    "duration": 1274,
    "start_time": "2021-08-16T11:30:07.613Z"
   },
   {
    "duration": 473,
    "start_time": "2021-08-16T11:30:08.890Z"
   },
   {
    "duration": 34,
    "start_time": "2021-08-16T11:30:09.366Z"
   },
   {
    "duration": 30,
    "start_time": "2021-08-16T11:30:09.404Z"
   },
   {
    "duration": 37,
    "start_time": "2021-08-16T11:30:09.437Z"
   },
   {
    "duration": 19,
    "start_time": "2021-08-16T11:30:09.477Z"
   },
   {
    "duration": 72,
    "start_time": "2021-08-16T11:30:09.498Z"
   },
   {
    "duration": 92,
    "start_time": "2021-08-16T11:30:09.576Z"
   },
   {
    "duration": 14,
    "start_time": "2021-08-16T11:30:09.672Z"
   },
   {
    "duration": 90,
    "start_time": "2021-08-16T11:30:09.689Z"
   },
   {
    "duration": 185,
    "start_time": "2021-08-16T11:30:09.782Z"
   },
   {
    "duration": 8,
    "start_time": "2021-08-16T11:30:09.970Z"
   },
   {
    "duration": 88,
    "start_time": "2021-08-16T11:30:09.980Z"
   },
   {
    "duration": 97,
    "start_time": "2021-08-16T11:30:10.071Z"
   },
   {
    "duration": 6,
    "start_time": "2021-08-16T11:30:10.170Z"
   },
   {
    "duration": 8,
    "start_time": "2021-08-16T11:30:10.178Z"
   },
   {
    "duration": 7,
    "start_time": "2021-08-16T11:30:10.188Z"
   },
   {
    "duration": 7,
    "start_time": "2021-08-16T11:30:10.197Z"
   },
   {
    "duration": 68,
    "start_time": "2021-08-16T11:30:10.207Z"
   },
   {
    "duration": 4664,
    "start_time": "2021-08-16T11:30:10.277Z"
   },
   {
    "duration": 5227,
    "start_time": "2021-08-16T11:30:14.944Z"
   },
   {
    "duration": 5885,
    "start_time": "2021-08-16T11:30:20.174Z"
   },
   {
    "duration": 24,
    "start_time": "2021-08-16T11:30:26.069Z"
   },
   {
    "duration": 4866,
    "start_time": "2021-08-16T11:38:30.167Z"
   },
   {
    "duration": 4871,
    "start_time": "2021-08-16T11:39:16.208Z"
   },
   {
    "duration": 4663,
    "start_time": "2021-08-16T11:39:52.083Z"
   },
   {
    "duration": 5,
    "start_time": "2021-08-16T12:14:46.244Z"
   },
   {
    "duration": 493,
    "start_time": "2021-08-16T12:14:46.252Z"
   },
   {
    "duration": 52,
    "start_time": "2021-08-16T12:14:46.749Z"
   },
   {
    "duration": 23,
    "start_time": "2021-08-16T12:14:46.805Z"
   },
   {
    "duration": 11,
    "start_time": "2021-08-16T12:14:46.831Z"
   },
   {
    "duration": 58,
    "start_time": "2021-08-16T12:14:46.844Z"
   },
   {
    "duration": 95,
    "start_time": "2021-08-16T12:14:46.905Z"
   },
   {
    "duration": 12,
    "start_time": "2021-08-16T12:14:47.087Z"
   },
   {
    "duration": 6,
    "start_time": "2021-08-16T12:14:47.104Z"
   },
   {
    "duration": 78,
    "start_time": "2021-08-16T12:14:47.112Z"
   },
   {
    "duration": 8,
    "start_time": "2021-08-16T12:14:47.193Z"
   },
   {
    "duration": 8,
    "start_time": "2021-08-16T12:14:47.287Z"
   },
   {
    "duration": 189,
    "start_time": "2021-08-16T12:14:47.298Z"
   },
   {
    "duration": 8,
    "start_time": "2021-08-16T12:14:47.491Z"
   },
   {
    "duration": 8,
    "start_time": "2021-08-16T12:14:47.585Z"
   },
   {
    "duration": 15,
    "start_time": "2021-08-16T12:14:47.597Z"
   },
   {
    "duration": 8,
    "start_time": "2021-08-16T12:14:47.616Z"
   },
   {
    "duration": 7,
    "start_time": "2021-08-16T12:14:47.626Z"
   },
   {
    "duration": 87,
    "start_time": "2021-08-16T12:14:47.637Z"
   },
   {
    "duration": 4820,
    "start_time": "2021-08-16T12:15:24.456Z"
   },
   {
    "duration": 7,
    "start_time": "2021-08-16T12:15:36.320Z"
   },
   {
    "duration": 7,
    "start_time": "2021-08-16T12:15:41.050Z"
   },
   {
    "duration": 490,
    "start_time": "2021-08-16T12:15:58.428Z"
   },
   {
    "duration": 7,
    "start_time": "2021-08-16T12:16:15.499Z"
   },
   {
    "duration": 8,
    "start_time": "2021-08-16T12:16:20.619Z"
   },
   {
    "duration": 6,
    "start_time": "2021-08-16T12:16:30.353Z"
   },
   {
    "duration": 6,
    "start_time": "2021-08-16T12:16:33.469Z"
   },
   {
    "duration": 633,
    "start_time": "2021-08-16T12:16:40.987Z"
   },
   {
    "duration": 8,
    "start_time": "2021-08-16T12:16:51.231Z"
   },
   {
    "duration": 7,
    "start_time": "2021-08-16T12:16:56.980Z"
   },
   {
    "duration": 723,
    "start_time": "2021-08-16T12:17:12.534Z"
   },
   {
    "duration": 6,
    "start_time": "2021-08-16T12:17:17.266Z"
   },
   {
    "duration": 7,
    "start_time": "2021-08-16T12:17:22.041Z"
   },
   {
    "duration": 7,
    "start_time": "2021-08-16T12:17:27.340Z"
   },
   {
    "duration": 7,
    "start_time": "2021-08-16T12:17:45.862Z"
   },
   {
    "duration": 1059,
    "start_time": "2021-08-16T12:18:26.647Z"
   },
   {
    "duration": 36,
    "start_time": "2021-08-16T12:19:19.125Z"
   },
   {
    "duration": 734,
    "start_time": "2021-08-16T12:19:22.323Z"
   },
   {
    "duration": 6,
    "start_time": "2021-08-16T12:20:12.734Z"
   },
   {
    "duration": 1999,
    "start_time": "2021-08-16T12:20:16.081Z"
   },
   {
    "duration": 5,
    "start_time": "2021-08-16T12:21:16.352Z"
   },
   {
    "duration": 10603,
    "start_time": "2021-08-16T12:21:19.584Z"
   },
   {
    "duration": 7,
    "start_time": "2021-08-16T12:21:30.190Z"
   },
   {
    "duration": 5150,
    "start_time": "2021-08-16T12:21:39.387Z"
   },
   {
    "duration": 4914,
    "start_time": "2021-08-16T12:21:50.600Z"
   },
   {
    "duration": 297,
    "start_time": "2021-08-16T12:22:05.927Z"
   },
   {
    "duration": 5523,
    "start_time": "2021-08-16T12:22:17.340Z"
   },
   {
    "duration": 5555,
    "start_time": "2021-08-16T12:22:41.937Z"
   },
   {
    "duration": 5081,
    "start_time": "2021-08-16T12:22:53.537Z"
   },
   {
    "duration": 4983,
    "start_time": "2021-08-16T12:23:07.004Z"
   },
   {
    "duration": 4820,
    "start_time": "2021-08-16T12:23:17.247Z"
   },
   {
    "duration": 7,
    "start_time": "2021-08-16T12:23:39.116Z"
   },
   {
    "duration": 6,
    "start_time": "2021-08-16T12:23:50.570Z"
   },
   {
    "duration": 9,
    "start_time": "2021-08-16T12:24:03.622Z"
   },
   {
    "duration": 8,
    "start_time": "2021-08-16T12:24:13.358Z"
   },
   {
    "duration": 102,
    "start_time": "2021-08-16T12:24:16.297Z"
   },
   {
    "duration": 9,
    "start_time": "2021-08-16T12:24:18.052Z"
   },
   {
    "duration": 4893,
    "start_time": "2021-08-16T12:24:59.346Z"
   },
   {
    "duration": 4907,
    "start_time": "2021-08-16T12:25:04.241Z"
   },
   {
    "duration": 4943,
    "start_time": "2021-08-16T12:25:09.151Z"
   },
   {
    "duration": 5021,
    "start_time": "2021-08-16T12:25:23.443Z"
   },
   {
    "duration": 6,
    "start_time": "2021-08-16T12:27:23.172Z"
   },
   {
    "duration": 628,
    "start_time": "2021-08-16T12:47:26.743Z"
   },
   {
    "duration": 4732,
    "start_time": "2021-08-16T12:48:16.860Z"
   },
   {
    "duration": 5017,
    "start_time": "2021-08-16T12:48:35.892Z"
   },
   {
    "duration": 4830,
    "start_time": "2021-08-16T12:49:13.714Z"
   },
   {
    "duration": 4885,
    "start_time": "2021-08-16T12:49:23.324Z"
   },
   {
    "duration": 4804,
    "start_time": "2021-08-16T12:49:49.280Z"
   },
   {
    "duration": 15,
    "start_time": "2021-08-16T12:50:55.738Z"
   },
   {
    "duration": 88,
    "start_time": "2021-08-16T12:53:27.407Z"
   },
   {
    "duration": 218,
    "start_time": "2021-08-16T12:56:29.534Z"
   },
   {
    "duration": 53,
    "start_time": "2021-08-16T12:56:42.551Z"
   },
   {
    "duration": 49,
    "start_time": "2021-08-16T12:56:57.119Z"
   },
   {
    "duration": 122,
    "start_time": "2021-08-16T12:59:11.376Z"
   },
   {
    "duration": 47,
    "start_time": "2021-08-16T12:59:19.836Z"
   },
   {
    "duration": 46,
    "start_time": "2021-08-16T12:59:25.658Z"
   },
   {
    "duration": 16,
    "start_time": "2021-08-16T13:00:08.794Z"
   },
   {
    "duration": 1266,
    "start_time": "2021-08-16T19:15:54.705Z"
   },
   {
    "duration": 445,
    "start_time": "2021-08-16T19:15:55.973Z"
   },
   {
    "duration": 41,
    "start_time": "2021-08-16T19:15:56.421Z"
   },
   {
    "duration": 28,
    "start_time": "2021-08-16T19:15:56.465Z"
   },
   {
    "duration": 14,
    "start_time": "2021-08-16T19:15:56.496Z"
   },
   {
    "duration": 44,
    "start_time": "2021-08-16T19:15:56.512Z"
   },
   {
    "duration": 98,
    "start_time": "2021-08-16T19:15:56.558Z"
   },
   {
    "duration": 97,
    "start_time": "2021-08-16T19:15:56.660Z"
   },
   {
    "duration": 6,
    "start_time": "2021-08-16T19:15:56.761Z"
   },
   {
    "duration": 92,
    "start_time": "2021-08-16T19:15:56.770Z"
   },
   {
    "duration": 93,
    "start_time": "2021-08-16T19:15:56.865Z"
   },
   {
    "duration": 107,
    "start_time": "2021-08-16T19:15:56.962Z"
   },
   {
    "duration": 95,
    "start_time": "2021-08-16T19:15:57.072Z"
   },
   {
    "duration": 94,
    "start_time": "2021-08-16T19:15:57.170Z"
   },
   {
    "duration": 92,
    "start_time": "2021-08-16T19:15:57.267Z"
   },
   {
    "duration": 10,
    "start_time": "2021-08-16T19:15:57.362Z"
   },
   {
    "duration": 21,
    "start_time": "2021-08-16T19:15:57.374Z"
   },
   {
    "duration": 18,
    "start_time": "2021-08-16T19:15:57.397Z"
   },
   {
    "duration": 25,
    "start_time": "2021-08-16T19:15:57.417Z"
   },
   {
    "duration": 5161,
    "start_time": "2021-08-16T19:15:57.445Z"
   },
   {
    "duration": 4751,
    "start_time": "2021-08-16T19:16:03.064Z"
   },
   {
    "duration": 4849,
    "start_time": "2021-08-16T19:16:23.302Z"
   },
   {
    "duration": 4746,
    "start_time": "2021-08-16T19:16:57.934Z"
   },
   {
    "duration": 4735,
    "start_time": "2021-08-16T19:17:11.475Z"
   },
   {
    "duration": 15,
    "start_time": "2021-08-16T19:18:09.235Z"
   },
   {
    "duration": 4908,
    "start_time": "2021-08-16T19:19:12.725Z"
   },
   {
    "duration": 4843,
    "start_time": "2021-08-16T19:19:19.743Z"
   },
   {
    "duration": 7,
    "start_time": "2021-08-16T19:19:31.561Z"
   },
   {
    "duration": 7,
    "start_time": "2021-08-16T19:19:36.698Z"
   },
   {
    "duration": 4909,
    "start_time": "2021-08-16T19:22:49.552Z"
   },
   {
    "duration": 4791,
    "start_time": "2021-08-16T19:22:58.584Z"
   },
   {
    "duration": 4944,
    "start_time": "2021-08-16T19:23:09.235Z"
   },
   {
    "duration": 5128,
    "start_time": "2021-08-16T19:23:14.182Z"
   },
   {
    "duration": 5008,
    "start_time": "2021-08-16T19:23:19.312Z"
   },
   {
    "duration": 387,
    "start_time": "2021-08-16T20:00:36.701Z"
   },
   {
    "duration": 1549,
    "start_time": "2021-08-16T20:00:54.822Z"
   },
   {
    "duration": 467,
    "start_time": "2021-08-16T20:00:56.373Z"
   },
   {
    "duration": 36,
    "start_time": "2021-08-16T20:00:56.843Z"
   },
   {
    "duration": 28,
    "start_time": "2021-08-16T20:00:56.882Z"
   },
   {
    "duration": 11,
    "start_time": "2021-08-16T20:00:56.913Z"
   },
   {
    "duration": 42,
    "start_time": "2021-08-16T20:00:56.927Z"
   },
   {
    "duration": 93,
    "start_time": "2021-08-16T20:00:56.971Z"
   },
   {
    "duration": 91,
    "start_time": "2021-08-16T20:00:57.070Z"
   },
   {
    "duration": 7,
    "start_time": "2021-08-16T20:00:57.164Z"
   },
   {
    "duration": 96,
    "start_time": "2021-08-16T20:00:57.174Z"
   },
   {
    "duration": 10,
    "start_time": "2021-08-16T20:00:57.357Z"
   },
   {
    "duration": 88,
    "start_time": "2021-08-16T20:00:57.370Z"
   },
   {
    "duration": 34,
    "start_time": "2021-08-16T20:00:57.460Z"
   },
   {
    "duration": 12,
    "start_time": "2021-08-16T20:00:57.560Z"
   },
   {
    "duration": 5,
    "start_time": "2021-08-16T20:00:57.657Z"
   },
   {
    "duration": 7,
    "start_time": "2021-08-16T20:00:57.665Z"
   },
   {
    "duration": 7,
    "start_time": "2021-08-16T20:00:57.674Z"
   },
   {
    "duration": 10,
    "start_time": "2021-08-16T20:00:57.684Z"
   },
   {
    "duration": 12,
    "start_time": "2021-08-16T20:00:57.696Z"
   },
   {
    "duration": 4813,
    "start_time": "2021-08-16T20:00:57.711Z"
   },
   {
    "duration": 4800,
    "start_time": "2021-08-16T20:01:02.526Z"
   },
   {
    "duration": 4742,
    "start_time": "2021-08-16T20:01:07.329Z"
   },
   {
    "duration": 27,
    "start_time": "2021-08-16T20:01:12.075Z"
   },
   {
    "duration": 4662,
    "start_time": "2021-08-16T20:02:42.417Z"
   },
   {
    "duration": 5740,
    "start_time": "2021-08-16T20:03:00.471Z"
   },
   {
    "duration": 4,
    "start_time": "2021-08-16T20:16:13.660Z"
   },
   {
    "duration": 469,
    "start_time": "2021-08-16T20:16:13.666Z"
   },
   {
    "duration": 41,
    "start_time": "2021-08-16T20:16:14.139Z"
   },
   {
    "duration": 25,
    "start_time": "2021-08-16T20:16:14.182Z"
   },
   {
    "duration": 18,
    "start_time": "2021-08-16T20:16:14.209Z"
   },
   {
    "duration": 35,
    "start_time": "2021-08-16T20:16:14.230Z"
   },
   {
    "duration": 95,
    "start_time": "2021-08-16T20:16:14.267Z"
   },
   {
    "duration": 95,
    "start_time": "2021-08-16T20:16:14.365Z"
   },
   {
    "duration": 8,
    "start_time": "2021-08-16T20:16:14.465Z"
   },
   {
    "duration": 86,
    "start_time": "2021-08-16T20:16:14.475Z"
   },
   {
    "duration": 95,
    "start_time": "2021-08-16T20:16:14.563Z"
   },
   {
    "duration": 11,
    "start_time": "2021-08-16T20:16:14.662Z"
   },
   {
    "duration": 99,
    "start_time": "2021-08-16T20:16:14.756Z"
   },
   {
    "duration": 97,
    "start_time": "2021-08-16T20:16:14.859Z"
   },
   {
    "duration": 6,
    "start_time": "2021-08-16T20:16:14.959Z"
   },
   {
    "duration": 6,
    "start_time": "2021-08-16T20:16:14.968Z"
   },
   {
    "duration": 8,
    "start_time": "2021-08-16T20:16:14.976Z"
   },
   {
    "duration": 7,
    "start_time": "2021-08-16T20:16:14.986Z"
   },
   {
    "duration": 5,
    "start_time": "2021-08-16T20:16:14.995Z"
   },
   {
    "duration": 4882,
    "start_time": "2021-08-16T20:16:15.003Z"
   },
   {
    "duration": 4830,
    "start_time": "2021-08-16T20:16:19.887Z"
   },
   {
    "duration": 4826,
    "start_time": "2021-08-16T20:16:24.719Z"
   },
   {
    "duration": 19,
    "start_time": "2021-08-16T20:16:29.548Z"
   }
  ],
  "kernelspec": {
   "display_name": "Python 3 (ipykernel)",
   "language": "python",
   "name": "python3"
  },
  "language_info": {
   "codemirror_mode": {
    "name": "ipython",
    "version": 3
   },
   "file_extension": ".py",
   "mimetype": "text/x-python",
   "name": "python",
   "nbconvert_exporter": "python",
   "pygments_lexer": "ipython3",
   "version": "3.9.5"
  },
  "toc": {
   "base_numbering": 1,
   "nav_menu": {},
   "number_sections": true,
   "sideBar": true,
   "skip_h1_title": true,
   "title_cell": "Table of Contents",
   "title_sidebar": "Contents",
   "toc_cell": false,
   "toc_position": {},
   "toc_section_display": true,
   "toc_window_display": false
  }
 },
 "nbformat": 4,
 "nbformat_minor": 2
}
